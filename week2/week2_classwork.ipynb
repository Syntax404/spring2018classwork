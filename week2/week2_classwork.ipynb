{
 "cells": [
  {
   "cell_type": "code",
   "execution_count": 8,
   "metadata": {
    "collapsed": false
   },
   "outputs": [
    {
     "name": "stdout",
     "output_type": "stream",
     "text": [
      "Enter your age:30\n"
     ]
    }
   ],
   "source": [
    "age = raw_input(\"Enter your age:\")"
   ]
  },
  {
   "cell_type": "code",
   "execution_count": 9,
   "metadata": {
    "collapsed": false
   },
   "outputs": [
    {
     "data": {
      "text/plain": [
       "'30'"
      ]
     },
     "execution_count": 9,
     "metadata": {},
     "output_type": "execute_result"
    }
   ],
   "source": [
    "age"
   ]
  },
  {
   "cell_type": "code",
   "execution_count": 10,
   "metadata": {
    "collapsed": false
   },
   "outputs": [
    {
     "data": {
      "text/plain": [
       "str"
      ]
     },
     "execution_count": 10,
     "metadata": {},
     "output_type": "execute_result"
    }
   ],
   "source": [
    "type(age)"
   ]
  },
  {
   "cell_type": "code",
   "execution_count": 11,
   "metadata": {
    "collapsed": true
   },
   "outputs": [],
   "source": [
    "age = int(age)"
   ]
  },
  {
   "cell_type": "code",
   "execution_count": 12,
   "metadata": {
    "collapsed": false
   },
   "outputs": [
    {
     "name": "stdout",
     "output_type": "stream",
     "text": [
      "30 <type 'int'>\n"
     ]
    }
   ],
   "source": [
    "print age,type(age)"
   ]
  },
  {
   "cell_type": "code",
   "execution_count": 13,
   "metadata": {
    "collapsed": true
   },
   "outputs": [],
   "source": [
    "if age == 23:\n",
    "    print \"Age is equal to 23\""
   ]
  },
  {
   "cell_type": "code",
   "execution_count": 14,
   "metadata": {
    "collapsed": false
   },
   "outputs": [
    {
     "name": "stdout",
     "output_type": "stream",
     "text": [
      "Enter your name:Harry\n",
      "Harry found\n"
     ]
    }
   ],
   "source": [
    "name = raw_input(\"Enter your name:\")\n",
    "\n",
    "if name == \"Harry\":\n",
    "    print \"Harry found\""
   ]
  },
  {
   "cell_type": "code",
   "execution_count": 15,
   "metadata": {
    "collapsed": false
   },
   "outputs": [
    {
     "name": "stdout",
     "output_type": "stream",
     "text": [
      "User is an adult\n"
     ]
    }
   ],
   "source": [
    "if age > 18:\n",
    "    print \"User is an adult\"\n",
    "else:\n",
    "    print \"User is not adult\""
   ]
  },
  {
   "cell_type": "code",
   "execution_count": 18,
   "metadata": {
    "collapsed": false
   },
   "outputs": [],
   "source": [
    "name = \"Bob\""
   ]
  },
  {
   "cell_type": "code",
   "execution_count": 19,
   "metadata": {
    "collapsed": false
   },
   "outputs": [
    {
     "name": "stdout",
     "output_type": "stream",
     "text": [
      "Neither Joe nor Harry found\n"
     ]
    }
   ],
   "source": [
    "if name == \"Joe\":\n",
    "    print \"Joe found\"\n",
    "elif name == \"Harry\":\n",
    "    print \"Harry found\"\n",
    "else:\n",
    "    print \"Neither Joe nor Harry found\""
   ]
  },
  {
   "cell_type": "code",
   "execution_count": 20,
   "metadata": {
    "collapsed": true
   },
   "outputs": [],
   "source": [
    "if name == \"Joe\":\n",
    "    print \"Joe found\"\n",
    "elif name == \"Harry\":\n",
    "    print \"Harry found\""
   ]
  },
  {
   "cell_type": "code",
   "execution_count": 21,
   "metadata": {
    "collapsed": false
   },
   "outputs": [
    {
     "name": "stdout",
     "output_type": "stream",
     "text": [
      "Is overdraft protection enabled:True\n"
     ]
    }
   ],
   "source": [
    "overdraft_protection_enabled = raw_input('Is overdraft protection enabled:')\n"
   ]
  },
  {
   "cell_type": "code",
   "execution_count": 22,
   "metadata": {
    "collapsed": false
   },
   "outputs": [
    {
     "data": {
      "text/plain": [
       "str"
      ]
     },
     "execution_count": 22,
     "metadata": {},
     "output_type": "execute_result"
    }
   ],
   "source": [
    "type(overdraft_protection_enabled)"
   ]
  },
  {
   "cell_type": "code",
   "execution_count": 25,
   "metadata": {
    "collapsed": true
   },
   "outputs": [],
   "source": [
    "overdraft_protection_enabled = bool(overdraft_protection_enabled)"
   ]
  },
  {
   "cell_type": "code",
   "execution_count": 27,
   "metadata": {
    "collapsed": false
   },
   "outputs": [
    {
     "name": "stdout",
     "output_type": "stream",
     "text": [
      "<type 'bool'>\n"
     ]
    }
   ],
   "source": [
    "print type(overdraft_protection_enabled)"
   ]
  },
  {
   "cell_type": "code",
   "execution_count": 49,
   "metadata": {
    "collapsed": false
   },
   "outputs": [
    {
     "name": "stdout",
     "output_type": "stream",
     "text": [
      "Enter your name:Ron\n",
      "Enter the account balance:20000\n",
      "Enter amount you would like to withdraw:30000\n",
      "Enter ODE status (True/False):False\n"
     ]
    }
   ],
   "source": [
    "name = raw_input(\"Enter your name:\")\n",
    "account_balance = raw_input(\"Enter the account balance:\")\n",
    "withdrawal_amount = raw_input(\"Enter amount you would like to withdraw:\")\n",
    "overdraft_protection_enabled = raw_input(\"Enter ODE status (True/False):\")"
   ]
  },
  {
   "cell_type": "code",
   "execution_count": 50,
   "metadata": {
    "collapsed": false
   },
   "outputs": [
    {
     "data": {
      "text/plain": [
       "str"
      ]
     },
     "execution_count": 50,
     "metadata": {},
     "output_type": "execute_result"
    }
   ],
   "source": [
    "type(overdraft_protection_enabled)"
   ]
  },
  {
   "cell_type": "code",
   "execution_count": 51,
   "metadata": {
    "collapsed": false
   },
   "outputs": [
    {
     "name": "stdout",
     "output_type": "stream",
     "text": [
      "False\n"
     ]
    }
   ],
   "source": [
    "print overdraft_protection_enabled"
   ]
  },
  {
   "cell_type": "code",
   "execution_count": 52,
   "metadata": {
    "collapsed": true
   },
   "outputs": [],
   "source": [
    "account_balance = int(account_balance)\n",
    "withdrawal_amount = int(withdrawal_amount)\n",
    "overdraft_protection_enabled = (overdraft_protection_enabled == \"True\")"
   ]
  },
  {
   "cell_type": "code",
   "execution_count": 53,
   "metadata": {
    "collapsed": false
   },
   "outputs": [
    {
     "name": "stdout",
     "output_type": "stream",
     "text": [
      "False\n"
     ]
    }
   ],
   "source": [
    "print overdraft_protection_enabled"
   ]
  },
  {
   "cell_type": "code",
   "execution_count": 54,
   "metadata": {
    "collapsed": false
   },
   "outputs": [
    {
     "name": "stdout",
     "output_type": "stream",
     "text": [
      "User has insufficient funds and no overdraft protection\n"
     ]
    }
   ],
   "source": [
    "if account_balance >= withdrawal_amount:\n",
    "    print \"User has sufficient balance\"\n",
    "elif overdraft_protection_enabled == True:\n",
    "    print \"User has insufficient funds but overdraft protection is enabled\"\n",
    "else:\n",
    "    print \"User has insufficient funds and no overdraft protection\""
   ]
  },
  {
   "cell_type": "markdown",
   "metadata": {},
   "source": [
    "### Repetition"
   ]
  },
  {
   "cell_type": "code",
   "execution_count": 57,
   "metadata": {
    "collapsed": false
   },
   "outputs": [
    {
     "data": {
      "text/plain": [
       "[0, 2, 4, 6, 8]"
      ]
     },
     "execution_count": 57,
     "metadata": {},
     "output_type": "execute_result"
    }
   ],
   "source": [
    "range(0,10,2)"
   ]
  },
  {
   "cell_type": "code",
   "execution_count": 58,
   "metadata": {
    "collapsed": false
   },
   "outputs": [
    {
     "data": {
      "text/plain": [
       "[0, 3, 6, 9]"
      ]
     },
     "execution_count": 58,
     "metadata": {},
     "output_type": "execute_result"
    }
   ],
   "source": [
    "range(0,10,3)"
   ]
  },
  {
   "cell_type": "code",
   "execution_count": 60,
   "metadata": {
    "collapsed": false
   },
   "outputs": [
    {
     "data": {
      "text/plain": [
       "[10, 9, 8, 7, 6, 5, 4, 3, 2, 1]"
      ]
     },
     "execution_count": 60,
     "metadata": {},
     "output_type": "execute_result"
    }
   ],
   "source": [
    "range(10,0,-1)"
   ]
  },
  {
   "cell_type": "code",
   "execution_count": 61,
   "metadata": {
    "collapsed": false
   },
   "outputs": [
    {
     "data": {
      "text/plain": [
       "[10, 8, 6, 4, 2]"
      ]
     },
     "execution_count": 61,
     "metadata": {},
     "output_type": "execute_result"
    }
   ],
   "source": [
    "range(10,0,-2)"
   ]
  },
  {
   "cell_type": "code",
   "execution_count": 64,
   "metadata": {
    "collapsed": false
   },
   "outputs": [
    {
     "name": "stdout",
     "output_type": "stream",
     "text": [
      "Enter the beginning value:2\n",
      "Enter the ending value:6\n",
      "Total is: 14\n"
     ]
    }
   ],
   "source": [
    "# for loop\n",
    "\n",
    "numberSum = 0\n",
    "\n",
    "beginning_number = int(raw_input(\"Enter the beginning value:\"))\n",
    "ending_number = int(raw_input(\"Enter the ending value:\"))\n",
    "\n",
    "for number in range(beginning_number,ending_number):\n",
    "    numberSum = numberSum + number\n",
    "    \n",
    "print \"Total is:\", numberSum"
   ]
  },
  {
   "cell_type": "code",
   "execution_count": 66,
   "metadata": {
    "collapsed": false
   },
   "outputs": [
    {
     "name": "stdout",
     "output_type": "stream",
     "text": [
      "Enter the beginning value:2\n",
      "Enter the ending value:6\n",
      "Total is: 14\n"
     ]
    }
   ],
   "source": [
    "# while loop\n",
    "\n",
    "numberSum = 0\n",
    "\n",
    "beginning_number = int(raw_input(\"Enter the beginning value:\"))\n",
    "ending_number = int(raw_input(\"Enter the ending value:\"))\n",
    "\n",
    "number = beginning_number\n",
    "\n",
    "while number < ending_number:\n",
    "    \n",
    "    numberSum = numberSum + number\n",
    "    number = number + 1\n",
    "    \n",
    "print \"Total is:\", numberSum\n"
   ]
  },
  {
   "cell_type": "code",
   "execution_count": null,
   "metadata": {
    "collapsed": true
   },
   "outputs": [],
   "source": []
  }
 ],
 "metadata": {
  "kernelspec": {
   "display_name": "Python 2",
   "language": "python",
   "name": "python2"
  },
  "language_info": {
   "codemirror_mode": {
    "name": "ipython",
    "version": 2
   },
   "file_extension": ".py",
   "mimetype": "text/x-python",
   "name": "python",
   "nbconvert_exporter": "python",
   "pygments_lexer": "ipython2",
   "version": "2.7.12"
  }
 },
 "nbformat": 4,
 "nbformat_minor": 2
}
